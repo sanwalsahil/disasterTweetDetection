{
 "cells": [
  {
   "cell_type": "code",
   "execution_count": null,
   "metadata": {
    "_cell_guid": "b1076dfc-b9ad-4769-8c92-a6c4dae69d19",
    "_uuid": "8f2839f25d086af736a60e9eeb907d3b93b6e0e5"
   },
   "outputs": [],
   "source": [
    "# This Python 3 environment comes with many helpful analytics libraries installed\n",
    "# It is defined by the kaggle/python docker image: https://github.com/kaggle/docker-python\n",
    "# For example, here's several helpful packages to load in \n",
    "\n",
    "import numpy as np # linear algebra\n",
    "import pandas as pd # data processing, CSV file I/O (e.g. pd.read_csv)\n",
    "\n",
    "# Input data files are available in the \"../input/\" directory.\n",
    "# For example, running this (by clicking run or pressing Shift+Enter) will list all files under the input directory\n",
    "\n",
    "import os\n",
    "for dirname, _, filenames in os.walk('/kaggle/input'):\n",
    "    for filename in filenames:\n",
    "        print(os.path.join(dirname, filename))\n",
    "\n",
    "# Any results you write to the current directory are saved as output."
   ]
  },
  {
   "cell_type": "markdown",
   "metadata": {},
   "source": [
    "# 1. Importing Libraries"
   ]
  },
  {
   "cell_type": "code",
   "execution_count": null,
   "metadata": {},
   "outputs": [],
   "source": [
    "!pip install pyspellchecker"
   ]
  },
  {
   "cell_type": "code",
   "execution_count": null,
   "metadata": {
    "_cell_guid": "79c7e3d0-c299-4dcb-8224-4455121ee9b0",
    "_uuid": "d629ff2d2480ee46fbb7e2d37f6b5fab8052498a"
   },
   "outputs": [],
   "source": [
    "import numpy as np\n",
    "import pandas as pd\n",
    "import tensorflow as tf\n",
    "import nltk\n",
    "import keras\n",
    "import os\n",
    "import seaborn as sns\n",
    "import matplotlib.pyplot as plt\n",
    "from nltk import word_tokenize\n",
    "from nltk import clean_html\n",
    "import re\n",
    "import string\n",
    "from nltk.corpus import stopwords\n",
    "from bs4 import BeautifulSoup\n",
    "from spellchecker import SpellChecker\n",
    "from nltk import WordNetLemmatizer\n",
    "from sklearn.feature_extraction.text import TfidfVectorizer\n",
    "from sklearn.model_selection import train_test_split"
   ]
  },
  {
   "cell_type": "markdown",
   "metadata": {},
   "source": [
    "# 2. Loading Data"
   ]
  },
  {
   "cell_type": "code",
   "execution_count": null,
   "metadata": {},
   "outputs": [],
   "source": [
    "dataTrain = pd.read_csv('../input/nlp-getting-started/train.csv') "
   ]
  },
  {
   "cell_type": "markdown",
   "metadata": {},
   "source": [
    "# 3. Understanding Data"
   ]
  },
  {
   "cell_type": "code",
   "execution_count": null,
   "metadata": {},
   "outputs": [],
   "source": [
    "dataTrain.head()"
   ]
  },
  {
   "cell_type": "code",
   "execution_count": null,
   "metadata": {},
   "outputs": [],
   "source": [
    "dataTrain.info()"
   ]
  },
  {
   "cell_type": "code",
   "execution_count": null,
   "metadata": {},
   "outputs": [],
   "source": [
    "for col in dataTrain.columns:\n",
    "    print(col+ ' - ' + format(dataTrain[col].isnull().sum()))"
   ]
  },
  {
   "cell_type": "code",
   "execution_count": null,
   "metadata": {},
   "outputs": [],
   "source": [
    "dataTrain.drop(['id','keyword','location'],inplace=True,axis=1)\n",
    "dataTrain.head()"
   ]
  },
  {
   "cell_type": "markdown",
   "metadata": {},
   "source": [
    "# 4. Data Cleaning"
   ]
  },
  {
   "cell_type": "markdown",
   "metadata": {},
   "source": [
    "## converting text to tokens of word"
   ]
  },
  {
   "cell_type": "code",
   "execution_count": null,
   "metadata": {},
   "outputs": [],
   "source": [
    "\n",
    "#data"
   ]
  },
  {
   "cell_type": "code",
   "execution_count": null,
   "metadata": {},
   "outputs": [],
   "source": [
    "def remove_html(w):\n",
    "    soup = BeautifulSoup(w)\n",
    "    text = soup.get_text()\n",
    "    return w"
   ]
  },
  {
   "cell_type": "code",
   "execution_count": null,
   "metadata": {},
   "outputs": [],
   "source": [
    "def remove_url(text):\n",
    "    # remove urls\n",
    "    url = re.compile(r'https?://\\S+|www\\.\\S+')\n",
    "    return url.sub(r'',text)"
   ]
  },
  {
   "cell_type": "code",
   "execution_count": null,
   "metadata": {},
   "outputs": [],
   "source": [
    "def remove_emoji(text):\n",
    "    emoji_pattern = re.compile(\"[\"\n",
    "                           u\"\\U0001F600-\\U0001F64F\"  # emoticons\n",
    "                           u\"\\U0001F300-\\U0001F5FF\"  # symbols & pictographs\n",
    "                           u\"\\U0001F680-\\U0001F6FF\"  # transport & map symbols\n",
    "                           u\"\\U0001F1E0-\\U0001F1FF\"  # flags (iOS)\n",
    "                           u\"\\U00002702-\\U000027B0\"\n",
    "                           u\"\\U000024C2-\\U0001F251\"\n",
    "                           \"]+\", flags=re.UNICODE)\n",
    "    return emoji_pattern.sub(r'', text)"
   ]
  },
  {
   "cell_type": "code",
   "execution_count": null,
   "metadata": {},
   "outputs": [],
   "source": [
    "spell = SpellChecker()\n",
    "def correct_spellings(text):\n",
    "    corrected_text = []\n",
    "    misspelled_words = spell.unknown(text.split())\n",
    "    for word in text.split():\n",
    "        if word in misspelled_words:\n",
    "            corrected_text.append(spell.correction(word))\n",
    "        else:\n",
    "            corrected_text.append(word)\n",
    "    return \" \".join(corrected_text)"
   ]
  },
  {
   "cell_type": "code",
   "execution_count": null,
   "metadata": {},
   "outputs": [],
   "source": [
    "def cleanData(data):\n",
    "    # remove urls\n",
    "    data['text'] = data['text'].apply(lambda x:remove_url(x))\n",
    "    print('urls removed')\n",
    "    \n",
    "    # remove emojis\n",
    "    data['text'] = data['text'].apply(lambda x:remove_emoji(x))\n",
    "    print('emojis removed')\n",
    "    # correct spellings\n",
    "    # commenting this out because this takes very long\n",
    "    #data['text'] = data['text'].apply(lambda x:correct_spellings(x))\n",
    "    \n",
    "    # tokenizing words\n",
    "    data['text'] = data['text'].apply(lambda x:word_tokenize(x))\n",
    "    print('tokenization done')\n",
    "    \n",
    "    # convert all text to lowercase\n",
    "    data['text'] = data['text'].apply(lambda x:[w.lower() for w in x ])\n",
    "    print('lowercase done')\n",
    "    \n",
    "    # remove html tags\n",
    "    data['text'] = data['text'].apply(lambda x:[remove_html(w) for w in x])\n",
    "    print('html tags removed')\n",
    "    \n",
    "    # prepare regex for char filtering\n",
    "    re_punc = re.compile('[%s]' % re.escape(string.punctuation))\n",
    "    \n",
    "    \n",
    "    # removing puncutations\n",
    "    data['text'] = data['text'].apply(lambda x:[re_punc.sub('',w) for w in x])\n",
    "    print('punctuations removed')\n",
    "    \n",
    "    # removing non alphabetic words \n",
    "    data['text'] = data['text'].apply(lambda x:[w for w in x if w.isalpha()])\n",
    "    print('numeric removed')\n",
    "    \n",
    "    # removing stopwords\n",
    "    data['text'] = data['text'].apply(lambda x:[w for w in x if w not in stopwords.words('english')])\n",
    "    print('stopwords removed')\n",
    "    \n",
    "    # removing short words\n",
    "    data['text'] = data['text'].apply(lambda x:[w for w in x if len(w)>2])\n",
    "    print('shortwords removed')\n",
    "    \n",
    "    return data"
   ]
  },
  {
   "cell_type": "code",
   "execution_count": null,
   "metadata": {},
   "outputs": [],
   "source": [
    "backup = dataTrain.copy()"
   ]
  },
  {
   "cell_type": "code",
   "execution_count": null,
   "metadata": {},
   "outputs": [],
   "source": [
    "dataTrain = backup"
   ]
  },
  {
   "cell_type": "code",
   "execution_count": null,
   "metadata": {},
   "outputs": [],
   "source": [
    "#data = pd.DataFrame(['How 123 are you doing Today major qr ?is this corect','fine thank you <b>colonel</b>! https://www.kaggle.com/c/nlp-getting-started'],columns=['text'])\n",
    "data = cleanData(dataTrain)"
   ]
  },
  {
   "cell_type": "code",
   "execution_count": null,
   "metadata": {},
   "outputs": [],
   "source": [
    "dataTrain.head()"
   ]
  },
  {
   "cell_type": "code",
   "execution_count": null,
   "metadata": {},
   "outputs": [],
   "source": [
    "#dataTrain.drop(['keyword','location'],inplace=True,axis=1)\n",
    "#dataTrain.head()"
   ]
  },
  {
   "cell_type": "code",
   "execution_count": null,
   "metadata": {},
   "outputs": [],
   "source": [
    "#dataTrain.drop(['id'],inplace=True,axis=1)\n",
    "#dataTrain.head()"
   ]
  },
  {
   "cell_type": "markdown",
   "metadata": {},
   "source": [
    "lematize data"
   ]
  },
  {
   "cell_type": "code",
   "execution_count": null,
   "metadata": {},
   "outputs": [],
   "source": [
    "backup = dataTrain.copy()"
   ]
  },
  {
   "cell_type": "code",
   "execution_count": null,
   "metadata": {},
   "outputs": [],
   "source": [
    "dataTrain = backup\n",
    "dataTrain.head()"
   ]
  },
  {
   "cell_type": "code",
   "execution_count": null,
   "metadata": {},
   "outputs": [],
   "source": [
    "lem = WordNetLemmatizer()\n",
    "dataTrain['text'] = dataTrain['text'].apply(lambda x:[lem.lemmatize(w) for w in x])"
   ]
  },
  {
   "cell_type": "code",
   "execution_count": null,
   "metadata": {},
   "outputs": [],
   "source": [
    "# join text\n",
    "dataTrain['text'] = dataTrain['text'].apply(lambda x:' '.join(x))"
   ]
  },
  {
   "cell_type": "code",
   "execution_count": null,
   "metadata": {},
   "outputs": [],
   "source": [
    "dataTrain.sample(5)"
   ]
  },
  {
   "cell_type": "markdown",
   "metadata": {},
   "source": [
    "# Modelling"
   ]
  },
  {
   "cell_type": "markdown",
   "metadata": {},
   "source": [
    "## using scikit learn"
   ]
  },
  {
   "cell_type": "code",
   "execution_count": null,
   "metadata": {},
   "outputs": [],
   "source": [
    "X = dataTrain['text']\n",
    "Y = dataTrain['target']"
   ]
  },
  {
   "cell_type": "code",
   "execution_count": null,
   "metadata": {},
   "outputs": [],
   "source": [
    "tfidf = TfidfVectorizer()\n",
    "tfidfFit = tfidf.fit(X)\n",
    "X = tfidf.transform(X)"
   ]
  },
  {
   "cell_type": "code",
   "execution_count": null,
   "metadata": {},
   "outputs": [],
   "source": [
    "X = X.toarray()"
   ]
  },
  {
   "cell_type": "code",
   "execution_count": null,
   "metadata": {},
   "outputs": [],
   "source": [
    "x_train,x_test,y_train,y_test = train_test_split(X,Y,test_size=.15)"
   ]
  },
  {
   "cell_type": "code",
   "execution_count": null,
   "metadata": {},
   "outputs": [],
   "source": [
    "from sklearn.linear_model import LogisticRegression\n",
    "from sklearn.metrics import confusion_matrix\n",
    "from sklearn.metrics import precision_recall_curve\n",
    "from sklearn.metrics import classification_report\n",
    "from sklearn.metrics import roc_curve\n",
    "from sklearn.metrics import r2_score\n",
    "from sklearn.metrics import precision_score,recall_score\n",
    "from sklearn.metrics import f1_score\n",
    "from sklearn.svm import SVC\n",
    "from sklearn.naive_bayes import GaussianNB\n",
    "from sklearn.tree import DecisionTreeClassifier\n",
    "from sklearn.ensemble import RandomForestClassifier\n",
    "from sklearn.neighbors import KNeighborsClassifier\n",
    "from sklearn.model_selection import GridSearchCV, cross_val_score,StratifiedKFold, learning_curve"
   ]
  },
  {
   "cell_type": "code",
   "execution_count": null,
   "metadata": {},
   "outputs": [],
   "source": [
    "conMatList = []\n",
    "prcList = []\n",
    "clRep= []\n",
    "rocDet = []\n",
    "preScore = []\n",
    "recScore = []\n",
    "f1Score = []\n",
    "yPred = []\n",
    "\n",
    "def getClassModel(model):\n",
    "    model = model()\n",
    "    model_name = model.__class__.__name__\n",
    "    model.fit(x_train,y_train)\n",
    "    \n",
    "    #getting prediction\n",
    "    y_pred = model.predict(x_test)\n",
    "    yPred.append([model_name,y_pred])\n",
    "    \n",
    "    # getting scores\n",
    "    \n",
    "    pre_score = precision_score(y_test,y_pred)\n",
    "    rec_score= recall_score(y_test,y_pred)\n",
    "    f1score = f1_score(y_test,y_pred)\n",
    "    \n",
    "    preScore.append([model_name,pre_score])\n",
    "    recScore.append([model_name,rec_score])\n",
    "    f1Score.append([model_name,f1score])\n",
    "    \n",
    "    ## getting confusion matrix\n",
    "    cm = confusion_matrix(y_test,y_pred)\n",
    "    matrix = pd.DataFrame(cm,columns=['predicted 0','predicted 1'],\n",
    "                         index=['Actual 0','Actual 1'])\n",
    "    conMatList.append([model_name,matrix])\n",
    "    \n",
    "     ## getting precision recall curve values\n",
    "    \n",
    "    precision, recall, thresholds = precision_recall_curve(y_test,y_pred)\n",
    "    prcList.append([model_name,precision,recall,thresholds])\n",
    "    \n",
    "    ## roc details\n",
    "    \n",
    "    fpr,tpr,thresholds = roc_curve(y_test,y_pred)\n",
    "    rocDet.append([model_name,fpr,tpr,thresholds])\n",
    "    \n",
    "    ## classification report\n",
    "    \n",
    "    classRep = classification_report(y_test,y_pred)\n",
    "    clRep.append([model_name,classRep])"
   ]
  },
  {
   "cell_type": "code",
   "execution_count": null,
   "metadata": {},
   "outputs": [],
   "source": [
    "from sklearn.naive_bayes import MultinomialNB"
   ]
  },
  {
   "cell_type": "code",
   "execution_count": null,
   "metadata": {},
   "outputs": [],
   "source": [
    "kfold = StratifiedKFold(n_splits=10)\n",
    "#classModelList = [LogisticRegression,SVC,GaussianNB,DecisionTreeClassifier\n",
    "#                 ,RandomForestClassifier,KNeighborsClassifier]\n",
    "classModelList = [MultinomialNB,LogisticRegression,GaussianNB]\n",
    "i = 0\n",
    "for model in classModelList:\n",
    "    \n",
    "    getClassModel(model)\n",
    "    print(i)\n",
    "    i = i+1"
   ]
  },
  {
   "cell_type": "code",
   "execution_count": null,
   "metadata": {},
   "outputs": [],
   "source": [
    "#getting cross validation scores for each model\n",
    "cv_results = []\n",
    "for model in classModelList:\n",
    "    cv_results.append(cross_val_score(model(),x_train,y_train,scoring='accuracy',\n",
    "                                     cv=kfold,n_jobs=4))\n",
    "cv_means = []\n",
    "cv_std = []\n",
    "\n",
    "for cv_result in cv_results:\n",
    "    cv_means.append(cv_result.mean())\n",
    "    cv_std.append(cv_result.std())\n",
    "    \n",
    "model_name = []\n",
    "for model in classModelList:\n",
    "    modelIns = model()\n",
    "    model_name.append(modelIns.__class__.__name__)\n",
    "    \n",
    "cv_res = pd.DataFrame({\n",
    "    \"CrossValMeans\":cv_means,\n",
    "    \"CrossValErrors\":cv_std,\n",
    "    \"Model\":model_name\n",
    "})\n",
    "  \n",
    "cv_res"
   ]
  },
  {
   "cell_type": "code",
   "execution_count": null,
   "metadata": {},
   "outputs": [],
   "source": [
    "for mat in conMatList:\n",
    "    print(mat[0])\n",
    "    print(' ')\n",
    "    print(mat[1])\n",
    "    print('-----------------------------------------------')"
   ]
  },
  {
   "cell_type": "code",
   "execution_count": null,
   "metadata": {},
   "outputs": [],
   "source": [
    "precisionDf = pd.DataFrame(preScore,columns=['model','precisionScore'])\n",
    "recallDf = pd.DataFrame(recScore,columns=['model','recallScore'])\n",
    "f1Df = pd.DataFrame(f1Score,columns=['model','f1Score'])\n",
    "precisionDf['f1Score'] = f1Df['f1Score']\n",
    "precisionDf['recallScore'] = recallDf['recallScore']\n",
    "precisionDf"
   ]
  },
  {
   "cell_type": "code",
   "execution_count": null,
   "metadata": {},
   "outputs": [],
   "source": [
    "for roc in rocDet:\n",
    "    print(roc[0])\n",
    "    fpr = roc[1]\n",
    "    tpr = roc[2]\n",
    "    plt.plot(fpr,tpr,label=roc[0])\n",
    "    plt.legend()"
   ]
  },
  {
   "cell_type": "code",
   "execution_count": null,
   "metadata": {},
   "outputs": [],
   "source": [
    "for prc in prcList:\n",
    "    precision = prc[1]\n",
    "    recall = prc[2]\n",
    "    plt.plot(precision,recall,label=prc[0])\n",
    "    plt.legend()"
   ]
  },
  {
   "cell_type": "markdown",
   "metadata": {},
   "source": [
    "# Finalising algorithms and saving models"
   ]
  },
  {
   "cell_type": "code",
   "execution_count": null,
   "metadata": {},
   "outputs": [],
   "source": [
    "logreg = LogisticRegression()\n",
    "logreg.fit(x_train,y_train)"
   ]
  },
  {
   "cell_type": "code",
   "execution_count": null,
   "metadata": {},
   "outputs": [],
   "source": [
    "import pickle\n",
    "pkl_Filename = \"regModel\"\n",
    "\n",
    "with open(pkl_Filename, 'wb') as file:\n",
    "    pickle.dump(logreg,file)"
   ]
  },
  {
   "cell_type": "code",
   "execution_count": null,
   "metadata": {},
   "outputs": [],
   "source": [
    "\n",
    "from IPython.display import FileLink\n",
    "FileLink('regModel.pkl')"
   ]
  },
  {
   "cell_type": "code",
   "execution_count": null,
   "metadata": {},
   "outputs": [],
   "source": [
    "#cheking if model saved works\n",
    "with open(pkl_Filename, 'rb') as file: \n",
    "    print(file)\n",
    "    Pickled_LR_Model = pickle.load(file)"
   ]
  },
  {
   "cell_type": "code",
   "execution_count": null,
   "metadata": {},
   "outputs": [],
   "source": [
    "ty = x_train[2]"
   ]
  },
  {
   "cell_type": "code",
   "execution_count": null,
   "metadata": {},
   "outputs": [],
   "source": [
    "y_pred = Pickled_LR_Model.predict(np.reshape(ty,(1,ty.shape[0])))\n",
    "y_pred"
   ]
  },
  {
   "cell_type": "code",
   "execution_count": null,
   "metadata": {},
   "outputs": [],
   "source": [
    "y_train[:3]"
   ]
  },
  {
   "cell_type": "markdown",
   "metadata": {},
   "source": [
    "## Function to preprocess test data"
   ]
  },
  {
   "cell_type": "code",
   "execution_count": null,
   "metadata": {},
   "outputs": [],
   "source": [
    "dataTrial = pd.DataFrame(['several casualties as death result in millions'],columns = ['text'])\n",
    "dataTrial = cleanData(dataTrial)"
   ]
  },
  {
   "cell_type": "code",
   "execution_count": null,
   "metadata": {},
   "outputs": [],
   "source": [
    "dataTrial['text'] = dataTrial['text'].apply(lambda x:[lem.lemmatize(w) for w in x])\n",
    "dataTrial['text'] = dataTrial['text'].apply(lambda x:' '.join(x))"
   ]
  },
  {
   "cell_type": "code",
   "execution_count": null,
   "metadata": {},
   "outputs": [],
   "source": [
    "Xtest = dataTrial['text']\n",
    "Xtest = tfidf.transform(Xtest)"
   ]
  },
  {
   "cell_type": "code",
   "execution_count": null,
   "metadata": {},
   "outputs": [],
   "source": [
    "Xtest = Xtest.toarray()"
   ]
  },
  {
   "cell_type": "code",
   "execution_count": null,
   "metadata": {},
   "outputs": [],
   "source": [
    "Xtest.shape"
   ]
  },
  {
   "cell_type": "code",
   "execution_count": null,
   "metadata": {},
   "outputs": [],
   "source": [
    "y_pred = Pickled_LR_Model.predict(Xtest)\n",
    "y_pred"
   ]
  },
  {
   "cell_type": "code",
   "execution_count": null,
   "metadata": {},
   "outputs": [],
   "source": [
    "ty.shape[0]"
   ]
  },
  {
   "cell_type": "code",
   "execution_count": null,
   "metadata": {},
   "outputs": [],
   "source": [
    "ty = np.reshape(ty,(1,ty.shape[0]))"
   ]
  },
  {
   "cell_type": "code",
   "execution_count": null,
   "metadata": {},
   "outputs": [],
   "source": [
    "ty.shape"
   ]
  },
  {
   "cell_type": "code",
   "execution_count": null,
   "metadata": {},
   "outputs": [],
   "source": []
  }
 ],
 "metadata": {
  "kernelspec": {
   "display_name": "Python 3",
   "language": "python",
   "name": "python3"
  },
  "language_info": {
   "codemirror_mode": {
    "name": "ipython",
    "version": 3
   },
   "file_extension": ".py",
   "mimetype": "text/x-python",
   "name": "python",
   "nbconvert_exporter": "python",
   "pygments_lexer": "ipython3",
   "version": "3.7.6"
  }
 },
 "nbformat": 4,
 "nbformat_minor": 1
}
